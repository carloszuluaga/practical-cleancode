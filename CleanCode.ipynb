{
 "cells": [
  {
   "cell_type": "markdown",
   "id": "f50bb262-6c1b-40ef-9b47-b671cccec183",
   "metadata": {},
   "source": [
    "# Exercise 1: FizzBuzz\n",
    "## Description:\n",
    "The FizzBuzz problem is a classic programming task. Write a program that prints the numbers from 1 to 100. But for multiples of three, print \"Fizz\" instead of the number and for the multiples of five, print \"Buzz\". For numbers which are multiples of both three and five, print \"FizzBuzz\".\n",
    "## Tasks to Refactor and Clean Code:\n",
    " 1. Extract the logic into separate methods for better readability.\n",
    " 2. Use meaningful variable and method names.\n",
    " 3. Remove magic numbers.\n"
   ]
  },
  {
   "cell_type": "code",
   "execution_count": null,
   "id": "3116926c-becc-4a01-ba60-c6ca6b48fa05",
   "metadata": {},
   "outputs": [],
   "source": [
    "public class FizzBuzz {\n",
    "    public static void run() {\n",
    "        for (int i = 1; i <= 100; i++) {\n",
    "            // Needs refactoring for better readability and maintenance\n",
    "            if (i % 3 == 0 && i % 5 == 0) {\n",
    "                System.out.println(\"FizzBuzz\");\n",
    "            } else if (i % 3 == 0) {\n",
    "                System.out.println(\"Fizz\");\n",
    "            } else if (i % 5 == 0) {\n",
    "                System.out.println(\"Buzz\");\n",
    "            } else {\n",
    "                System.out.println(i);\n",
    "            }\n",
    "        }\n",
    "    }\n",
    "}\n",
    "\n",
    "FizzBuzz.run();"
   ]
  },
  {
   "cell_type": "markdown",
   "id": "3c7c38f3-6148-420b-ba09-c2ac7c5b860d",
   "metadata": {},
   "source": [
    "# Exercise 2: String Reversal\n",
    "## Description:\n",
    "Write a program that reverses a given string. The input string should be reversed and the result should be printed.\n",
    "## Tasks to Refactor and Clean Code:\n",
    " 1. Use a more efficient way to reverse the string.\n",
    " 2. Extract the reversal logic into a separate method.\n",
    " 3. Add comments to explain the code.\n"
   ]
  },
  {
   "cell_type": "code",
   "execution_count": null,
   "id": "3edae810-e1ab-4f03-8b3d-e09853f71c41",
   "metadata": {},
   "outputs": [],
   "source": [
    "public class StringReversal {\n",
    "    public static void doit() {\n",
    "        String original = \"Hello World\";\n",
    "        // Inefficient way to reverse the string\n",
    "        String reversed = \"\";\n",
    "        for (int i = original.length() - 1; i >= 0; i--) {\n",
    "            reversed += original.charAt(i);\n",
    "        }\n",
    "        System.out.println(reversed);\n",
    "    }\n",
    "}\n",
    "\n",
    "StringReversal.doit();"
   ]
  },
  {
   "cell_type": "markdown",
   "id": "492edd92-3ef4-4a40-850b-c6ef4e9abede",
   "metadata": {},
   "source": [
    "# Exercise 3: Prime Number Checker\n",
    "## Description:\n",
    "Write a program that checks if a number is prime. A prime number is a number that is only divisible by 1 and itself.\n",
    "## Tasks to Refactor and Clean Code:\n",
    " 1. Extract the prime checking logic into a separate method.\n",
    " 2. Use meaningful variable names.\n",
    " 3. Add comments to explain the code and improve readability."
   ]
  },
  {
   "cell_type": "code",
   "execution_count": null,
   "id": "5d40b12e-49ff-4c24-b3a0-6544f9e9bb80",
   "metadata": {},
   "outputs": [],
   "source": [
    "public class PrimeChecker {\n",
    "    public static void execute() {\n",
    "        int num = 29;\n",
    "        boolean flag = false;\n",
    "        for (int i = 2; i <= num / 2; ++i) {\n",
    "            // Check if number is divisible by i\n",
    "            if (num % i == 0) {\n",
    "                flag = true;\n",
    "                break;\n",
    "            }\n",
    "        }\n",
    "        if (!flag)\n",
    "            System.out.println(num + \" is a prime number.\");\n",
    "        else\n",
    "            System.out.println(num + \" is not a prime number.\");\n",
    "    }\n",
    "}\n",
    "\n",
    "PrimeChecker.execute();"
   ]
  },
  {
   "cell_type": "code",
   "execution_count": null,
   "id": "9c0dadda-ffb3-4947-9993-d34db2dca666",
   "metadata": {},
   "outputs": [],
   "source": []
  }
 ],
 "metadata": {
  "kernelspec": {
   "display_name": "Java",
   "language": "java",
   "name": "java"
  },
  "language_info": {
   "codemirror_mode": "java",
   "file_extension": ".jshell",
   "mimetype": "text/x-java-source",
   "name": "Java",
   "pygments_lexer": "java",
   "version": "21.0.3+9-LTS"
  }
 },
 "nbformat": 4,
 "nbformat_minor": 5
}
