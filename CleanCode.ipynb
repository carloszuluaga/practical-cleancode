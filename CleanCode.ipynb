{
 "cells": [
  {
   "cell_type": "markdown",
   "metadata": {},
   "source": [
    "# Exercise 1: Naming Conventions"
   ]
  },
  {
   "cell_type": "markdown",
   "metadata": {},
   "source": [
    "## Scenario:\n",
    "\n",
    "You're building a simple shopping cart application.\n",
    "\n",
    "## Exercise:\n",
    "\n",
    "  - Create classes:\n",
    "    - Product:\n",
    "      - This class represents a product in the shopping cart.\n",
    "      - It should have attributes like name, price, quantity, and category.\n",
    "    - ShoppingCart:\n",
    "      - This class represents the shopping cart itself.\n",
    "      - It should have methods to:\n",
    "      - Add a product to the cart.\n",
    "      - Remove a product from the cart.\n",
    "      - Update the quantity of a product in the cart.\n",
    "      - Calculate the total price of all items in the cart.\n",
    "      - Display the contents of the cart.\n",
    "  - Refactor with Naming Conventions:"
   ]
  },
  {
   "cell_type": "code",
   "execution_count": null,
   "metadata": {
    "vscode": {
     "languageId": "java"
    }
   },
   "outputs": [],
   "source": [
    "public class product {\n",
    "    String Name;\n",
    "    double price;\n",
    "    int q;\n",
    "    String product_category;\n",
    "}\n",
    "\n",
    "public class ShoppingCart {\n",
    "    List<product> items = new Vector<product>();\n",
    "\n",
    "    public void addToCart(product p) {\n",
    "        items.add(p);\n",
    "    }\n",
    "\n",
    "    public void removeFromCart(product prod) {\n",
    "        items.remove(prod);\n",
    "    }\n",
    "\n",
    "    public void updateQuantity(product product, int nq) {\n",
    "        product.q = nq;\n",
    "    }\n",
    "\n",
    "    public double calculateTotalPrice() {\n",
    "        double totalPrice = 0;\n",
    "        for (product product : items) {\n",
    "            totalPrice += product.price * product.q;\n",
    "        }\n",
    "        return totalPrice;\n",
    "    }\n",
    "\n",
    "    public void displayCart() {\n",
    "        System.out.println(\"Cart Contents:\");\n",
    "        for (product product : items) {\n",
    "            System.out.println(\"  - \" + product.Name + \" (\" + product.q + \") - $\" + product.price);\n",
    "        }\n",
    "        System.out.println(\"Total Price: $\" + calculateTotalPrice());\n",
    "    }\n",
    "}"
   ]
  },
  {
   "cell_type": "code",
   "execution_count": null,
   "metadata": {
    "vscode": {
     "languageId": "java"
    }
   },
   "outputs": [],
   "source": [
    "ShoppingCart shoppingCart = new ShoppingCart();\n",
    "shoppingCart.displayCart();"
   ]
  },
  {
   "cell_type": "markdown",
   "metadata": {},
   "source": [
    "# Exercise 2: Side effects"
   ]
  },
  {
   "cell_type": "markdown",
   "metadata": {},
   "source": [
    "## Scenario:\n",
    "\n",
    "Imagine you're building an e-commerce system with discounts. Here's a scenario where side effects can creep in:\n",
    "\n",
    "## Functionality:\n",
    "\n",
    "We need a function to calculate the final price of a product after applying any applicable discounts.\n",
    "\n",
    "## Exercise:\n",
    "\n",
    " - This code calculates the final price by modifying the price variable directly within the function.\n",
    " - This approach has side effects because it changes the original price value of the Product object.\n",
    " - This can lead to unexpected behavior if the Product object is used elsewhere.\n",
    "\n"
   ]
  },
  {
   "cell_type": "code",
   "execution_count": null,
   "metadata": {
    "vscode": {
     "languageId": "java"
    }
   },
   "outputs": [],
   "source": [
    "public class Customer {\n",
    "    private String name;\n",
    "    private boolean premiumMember;\n",
    "    \n",
    "    public Customer(String name, boolean premiumMember){\n",
    "        this.name = name;\n",
    "        this.premiumMember = premiumMember;\n",
    "    }\n",
    "    \n",
    "    public String getName(){\n",
    "        return this.name;\n",
    "    }\n",
    "    \n",
    "    public boolean isPremiumMember(){\n",
    "        return this.premiumMember;\n",
    "    }\n",
    "}\n",
    "\n",
    "public class Product {\n",
    "    private String name;\n",
    "    double price;\n",
    "    private double shippingCost;\n",
    "    private int quantity;\n",
    "    private String category;\n",
    "\n",
    "    public Product(String name, double price, double shippingCost, int quantity, String category){\n",
    "        this.name = name;\n",
    "        this.price = price;\n",
    "        this.shippingCost = shippingCost;\n",
    "        this.quantity = quantity;\n",
    "        this.category = category;\n",
    "    }\n",
    "    \n",
    "    public String getName(){\n",
    "        return this.name;\n",
    "    }\n",
    "    \n",
    "    public double getPrice(){\n",
    "        return this.price;\n",
    "    }\n",
    "    \n",
    "    public double getShippingCost(){\n",
    "        return this.shippingCost;\n",
    "    }\n",
    "    \n",
    "    public int getQuantity(){\n",
    "        return this.quantity;\n",
    "    }\n",
    "    \n",
    "    public String getCategory(){\n",
    "        return this.category;\n",
    "    }\n",
    "    \n",
    "    protected void sell(int quantity){\n",
    "        this.quantity -= quantity;\n",
    "    }\n",
    "}\n",
    "\n",
    "public class ShoppingCart {\n",
    "    private List<Product> items;\n",
    "    private Customer customer;\n",
    "    \n",
    "    public ShoppingCart(Customer customer){\n",
    "        this.items = new LinkedList<Product>();\n",
    "        this.customer = customer;\n",
    "    }\n",
    "\n",
    "    public void addToCart(Product product) {\n",
    "        items.add(product);\n",
    "    }\n",
    "\n",
    "    public void removeFromCart(Product product) {\n",
    "        items.remove(product);\n",
    "    }\n",
    "    \n",
    "    public double getTotalPrice() {\n",
    "        double total = 0;\n",
    "        for (Product product : items) {\n",
    "            total += product.getPrice();\n",
    "        }\n",
    "        return total;\n",
    "    }\n",
    "\n",
    "    public double calculateFinalPrice(Product product) {\n",
    "        \n",
    "\n",
    "        // Apply a flat 10% discount if the customer is a premium member\n",
    "        if (customer.isPremiumMember()) {\n",
    "            product.price *= 0.9;  // This modifies the original price variable\n",
    "        }\n",
    "\n",
    "        // Free shipping for orders above $100\n",
    "        if (getTotalPrice() >= 100) {\n",
    "            product.price -= product.getShippingCost();  // This modifies the original price variable\n",
    "        }\n",
    "\n",
    "        return product.price;\n",
    "    }\n",
    "    \n",
    "    public double getFinalPrice(){\n",
    "       double total = 0;\n",
    "        for (Product product : items) {\n",
    "            total += calculateFinalPrice(product);\n",
    "        }\n",
    "        return total; \n",
    "    }\n",
    "\n",
    "    public void displayCart() {\n",
    "        System.out.println(\"Cart Contents:\");\n",
    "        for (Product product : items) {\n",
    "            System.out.println(\"  - \" + product.getName() + \" - $\" + product.getPrice());\n",
    "        }\n",
    "        System.out.println(\"Total Price: $\" + getTotalPrice());\n",
    "    }\n",
    "}"
   ]
  },
  {
   "cell_type": "code",
   "execution_count": null,
   "metadata": {
    "vscode": {
     "languageId": "java"
    }
   },
   "outputs": [],
   "source": [
    "Product product1 = new Product(\"test 1\", 101, 30, 10, \"test\");\n",
    "Customer customer = new Customer(\"test\", true);\n",
    "ShoppingCart cart = new ShoppingCart(customer);\n",
    "cart.addToCart(product1);\n",
    "cart.displayCart();"
   ]
  },
  {
   "cell_type": "markdown",
   "metadata": {},
   "source": [
    "# Exercise 3: Low Cohesion Example:"
   ]
  },
  {
   "cell_type": "markdown",
   "metadata": {},
   "source": [
    "Imagine you have a utility class named HelperUtil. This class holds various unrelated methods that seem convenient to have in one place but don't follow a specific theme."
   ]
  },
  {
   "cell_type": "code",
   "execution_count": null,
   "metadata": {},
   "outputs": [],
   "source": [
    "public class HelperUtil {\n",
    "\n",
    "  // String manipulation method\n",
    "  public static String reverseString(String str) {\n",
    "    StringBuilder sb = new StringBuilder(str);\n",
    "    return sb.reverse().toString();\n",
    "  }\n",
    "\n",
    "  // Math calculation method\n",
    "  public static double calculateArea(double length, double width) {\n",
    "    return length * width;\n",
    "  }\n",
    "\n",
    "  // Date manipulation method\n",
    "  public static String formatDate(Date date) {\n",
    "    SimpleDateFormat sdf = new SimpleDateFormat(\"yyyy-MM-dd\");\n",
    "    return sdf.format(date);\n",
    "  }\n",
    "\n",
    "  // Network connection check (assuming some library usage)\n",
    "  public static boolean isNetworkAvailable() {\n",
    "    // Code to check network connectivity using a library\n",
    "    return true; // Replace with actual implementation\n",
    "  }\n",
    "}"
   ]
  },
  {
   "cell_type": "code",
   "execution_count": null,
   "metadata": {},
   "outputs": [],
   "source": []
  }
 ],
 "metadata": {
  "kernelspec": {
   "display_name": "Java",
   "language": "java",
   "name": "java"
  },
  "language_info": {
   "codemirror_mode": "java",
   "file_extension": ".jshell",
   "mimetype": "text/x-java-source",
   "name": "Java",
   "pygments_lexer": "java",
   "version": "11.0.4+11-LTS"
  }
 },
 "nbformat": 4,
 "nbformat_minor": 5
}
