{
 "cells": [
  {
   "cell_type": "markdown",
   "id": "f50bb262-6c1b-40ef-9b47-b671cccec183",
   "metadata": {},
   "source": [
    "# Exercise 1: \n"
   ]
  },
  {
   "cell_type": "code",
   "execution_count": null,
   "id": "3116926c-becc-4a01-ba60-c6ca6b48fa05",
   "metadata": {
    "vscode": {
     "languageId": "python"
    }
   },
   "outputs": [],
   "source": [
    "def check_numbers(a, b, c):\n",
    "    if a > b:\n",
    "        print(\"a is greater than b\")\n",
    "    elif a > c:\n",
    "        print(\"a is greater than c\")\n",
    "    elif b > c:\n",
    "        print(\"b is greater than c\")\n",
    "    elif c > a:\n",
    "        print(\"c is greater than a\")\n",
    "    else:\n",
    "        print(\"All numbers are equal\")\n",
    "\n",
    "check_numbers(5, 10, 15)"
   ]
  },
  {
   "cell_type": "code",
   "execution_count": null,
   "id": "0d0303d0-859e-4737-8099-39919d6c892d",
   "metadata": {},
   "outputs": [],
   "source": []
  }
 ],
 "metadata": {
  "kernelspec": {
   "display_name": "Python 3 (ipykernel)",
   "language": "python",
   "name": "python3"
  },
  "language_info": {
   "codemirror_mode": {
    "name": "ipython",
    "version": 3
   },
   "file_extension": ".py",
   "mimetype": "text/x-python",
   "name": "python",
   "nbconvert_exporter": "python",
   "pygments_lexer": "ipython3",
   "version": "3.11.9"
  }
 },
 "nbformat": 4,
 "nbformat_minor": 5
}
