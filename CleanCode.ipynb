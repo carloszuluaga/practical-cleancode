{
 "cells": [
  {
   "cell_type": "markdown",
   "id": "f50bb262-6c1b-40ef-9b47-b671cccec183",
   "metadata": {},
   "source": [
    "# Exercise 1: \n"
   ]
  },
  {
   "cell_type": "code",
   "execution_count": null,
   "id": "3116926c-becc-4a01-ba60-c6ca6b48fa05",
   "metadata": {},
   "outputs": [],
   "source": [
    "class UserManager {\n",
    "    userOperations(userName, password, email) {\n",
    "        // Validate user input\n",
    "        if (!userName || !password || !email) {\n",
    "            throw new Error(\"Invalid input\");\n",
    "        }\n",
    "\n",
    "        // Create user\n",
    "        console.log(\"User created: \" + userName);\n",
    "\n",
    "        // Send email\n",
    "        console.log(\"Email sent to: \" + email);\n",
    "\n",
    "        // Log operation\n",
    "        console.log(\"User operation logged for: \" + userName);\n",
    "    }\n",
    "}\n",
    "\n",
    "const userManager = new UserManager();\n",
    "userManager.userOperations(\"JohnDoe\", \"password123\", \"john.doe@example.com\");"
   ]
  },
  {
   "cell_type": "code",
   "execution_count": null,
   "id": "0d0303d0-859e-4737-8099-39919d6c892d",
   "metadata": {},
   "outputs": [],
   "source": []
  }
 ],
 "metadata": {
  "kernelspec": {
   "display_name": "JavaScript (Node.js)",
   "language": "javascript",
   "name": "javascript"
  },
  "language_info": {
   "file_extension": ".js",
   "mimetype": "application/javascript",
   "name": "javascript",
   "version": "18.12.1"
  }
 },
 "nbformat": 4,
 "nbformat_minor": 5
}
