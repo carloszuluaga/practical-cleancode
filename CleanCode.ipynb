{
 "cells": [
  {
   "cell_type": "markdown",
   "metadata": {},
   "source": [
    "# Exercise 1: Naming Conventions"
   ]
  },
  {
   "cell_type": "markdown",
   "metadata": {},
   "source": [
    "## Scenario:\n",
    "\n",
    "You're building a simple shopping cart application.\n",
    "\n",
    "## Exercise:\n",
    "\n",
    "  - Create classes:\n",
    "    - Product:\n",
    "      - This class represents a product in the shopping cart.\n",
    "      - It should have attributes like name, price, quantity, and category.\n",
    "    - ShoppingCart:\n",
    "      - This class represents the shopping cart itself.\n",
    "      - It should have methods to:\n",
    "      - Add a product to the cart.\n",
    "      - Remove a product from the cart.\n",
    "      - Update the quantity of a product in the cart.\n",
    "      - Calculate the total price of all items in the cart.\n",
    "      - Display the contents of the cart.\n",
    "  - Refactor with Naming Conventions:"
   ]
  },
  {
   "cell_type": "code",
   "execution_count": null,
   "id": "af3b14be",
   "metadata": {
    "vscode": {
     "languageId": "java"
    }
   },
   "outputs": [],
   "source": [
    "public class product {\n",
    "    String Name;\n",
    "    double price;\n",
    "    int q;\n",
    "    String product_category;\n",
    "}\n",
    "\n",
    "public class ShoppingCart {\n",
    "    List<product> items = new Vector<product>();\n",
    "\n",
    "    public void addToCart(product p) {\n",
    "        items.add(p);\n",
    "    }\n",
    "\n",
    "    public void removeFromCart(product prod) {\n",
    "        items.remove(prod);\n",
    "    }\n",
    "\n",
    "    public void updateQuantity(product product, int nq) {\n",
    "        product.q = nq;\n",
    "    }\n",
    "\n",
    "    public double calculateTotalPrice() {\n",
    "        double totalPrice = 0;\n",
    "        for (product product : items) {\n",
    "            totalPrice += product.price * product.q;\n",
    "        }\n",
    "        return totalPrice;\n",
    "    }\n",
    "\n",
    "    public void displayCart() {\n",
    "        System.out.println(\"Cart Contents:\");\n",
    "        for (product product : items) {\n",
    "            System.out.println(\"  - \" + product.Name + \" (\" + product.q + \") - $\" + product.price);\n",
    "        }\n",
    "        System.out.println(\"Total Price: $\" + calculateTotalPrice());\n",
    "    }\n",
    "}"
   ]
  },
  {
   "cell_type": "code",
   "execution_count": null,
   "id": "5db49f4c",
   "metadata": {
    "vscode": {
     "languageId": "java"
    }
   },
   "outputs": [],
   "source": [
    "ShoppingCart shoppingCart = new ShoppingCart();\n",
    "shoppingCart.displayCart();"
   ]
  },
  {
   "cell_type": "markdown",
   "metadata": {},
   "source": [
    "# Exercise 2: "
   ]
  },
  {
   "cell_type": "markdown",
   "metadata": {},
   "source": [
    "## Scenario:\n",
    "\n",
    "\n",
    "## Exercise:\n",
    "\n"
   ]
  },
  {
   "cell_type": "code",
   "execution_count": null,
   "metadata": {
    "vscode": {
     "languageId": "java"
    }
   },
   "outputs": [],
   "source": []
  },
  {
   "cell_type": "code",
   "execution_count": null,
   "metadata": {
    "vscode": {
     "languageId": "java"
    }
   },
   "outputs": [],
   "source": []
  }
 ],
 "metadata": {
  "kernelspec": {
   "display_name": "Java",
   "language": "java",
   "name": "java"
  },
  "language_info": {
   "codemirror_mode": "java",
   "file_extension": ".jshell",
   "mimetype": "text/x-java-source",
   "name": "Java",
   "pygments_lexer": "java",
   "version": "11.0.4+11-LTS"
  }
 },
 "nbformat": 4,
 "nbformat_minor": 5
}
